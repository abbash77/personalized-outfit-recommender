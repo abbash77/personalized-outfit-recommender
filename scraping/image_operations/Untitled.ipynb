{
 "cells": [
  {
   "cell_type": "code",
   "execution_count": 8,
   "id": "51c1144e",
   "metadata": {},
   "outputs": [
    {
     "data": {
      "text/plain": [
       "\"\\nprint(im.shape) # (830, 1245, 3)# Let's print each dimension of the image\\nprint('Height of Image:', int(im.shape[0]), 'pixels')\\nprint('Width of Image: ', int(im.shape[1]), 'pixels')# save images\\n# lower mask (0-10)\\nlower_red = np.array([0,50,50])\\nupper_red = np.array([10,255,255])\\nmask0 = cv2.inRange(hsv, lower_red, upper_red)\\n# upper mask (170-180)\\nlower_red = np.array([170,50,50])\\nupper_red = np.array([180,255,255])\\nmask1 = cv2.inRange(hsv, lower_red, upper_red)\\n\\n# join my masks\\nmask = mask0+mask1\\n\\n# set my output img to zero everywhere except my mask\\noutput_img = hsv.copy()\\noutput_img[np.where(mask==0)] = 0\\n\""
      ]
     },
     "execution_count": 8,
     "metadata": {},
     "output_type": "execute_result"
    }
   ],
   "source": [
    "import cv2\n",
    "import numpy as np\n",
    "\n",
    "#img = cv2.imread(\"./example_images/red_tshirt.jpg\", cv2.IMREAD_COLOR)\n",
    "inp_color = \"blue\"\n",
    "inp_dir = \"./example_images/\"\n",
    "inp_name = \"black_jeans\"\n",
    "inp_extension = \".jpg\"\n",
    "\n",
    "inp_file = inp_dir + inp_name + inp_extension\n",
    "\n",
    "out_color = \"blue\" # None to just crop the picture\n",
    "out_dir = \"./output/\"\n",
    "out_name = inp_name + \"_out\"\n",
    "out_extension = inp_extension\n",
    "\n",
    "out_file_cut = out_dir + out_name + out_extension\n",
    "out_file_changed = out_dir + out_name + \"_to_\" + out_color + out_extension\n",
    "\n",
    "im = cv2.imread(inp_file, 1)\n",
    "hsv = cv2.cvtColor(im, cv2.COLOR_BGR2HSV)\n",
    "\n",
    "\n",
    "\n",
    "if(inp_color == \"red\"):\n",
    "    lower = np.array([155,25,0])\n",
    "    upper = np.array([179,255,255])\n",
    "\n",
    "if(inp_color == \"black\"):\n",
    "    lower = np.array([0,0,0])\n",
    "    upper = np.array([180, 255, 50])\n",
    "\n",
    "if(inp_color == \"blue\"):\n",
    "    lower = np.array([94, 80, 2])\n",
    "    upper = np.array([126, 255, 255])\n",
    "\n",
    "if(inp_color == \"green\"):\n",
    "    lower = np.array([25, 52, 72])\n",
    "    upper = np.array([102, 255, 255])\n",
    "\n",
    "mask = cv2.inRange(hsv, lower, upper)\n",
    "output_img = im.copy()\n",
    "\n",
    "#output_img = cv2.bitwise_and(output_img, output_img, mask=mask)\n",
    "output_img[np.where(mask==0)] = [0]\n",
    "\n",
    "changed_img = output_img.copy()\n",
    "if(out_color != \"none\"):\n",
    "    changed_img[np.where(mask != 0)] = [255, 0, 0]\n",
    "\n",
    "cv2.imshow('result', output_img)\n",
    "cv2.imshow('result', hsv)\n",
    "cv2.waitKey(0)# This closes all open windows \n",
    "cv2.imwrite(out_file_cut, output_img)\n",
    "cv2.imwrite(out_file_changed, changed_img)\n",
    "\"\"\"\n",
    "print(im.shape) # (830, 1245, 3)# Let's print each dimension of the image\n",
    "print('Height of Image:', int(im.shape[0]), 'pixels')\n",
    "print('Width of Image: ', int(im.shape[1]), 'pixels')# save images\n",
    "# lower mask (0-10)\n",
    "lower_red = np.array([0,50,50])\n",
    "upper_red = np.array([10,255,255])\n",
    "mask0 = cv2.inRange(hsv, lower_red, upper_red)\n",
    "# upper mask (170-180)\n",
    "lower_red = np.array([170,50,50])\n",
    "upper_red = np.array([180,255,255])\n",
    "mask1 = cv2.inRange(hsv, lower_red, upper_red)\n",
    "\n",
    "# join my masks\n",
    "mask = mask0+mask1\n",
    "\n",
    "# set my output img to zero everywhere except my mask\n",
    "output_img = hsv.copy()\n",
    "output_img[np.where(mask==0)] = 0\n",
    "\"\"\""
   ]
  },
  {
   "cell_type": "code",
   "execution_count": null,
   "id": "b5b53502",
   "metadata": {},
   "outputs": [],
   "source": []
  }
 ],
 "metadata": {
  "kernelspec": {
   "display_name": "Python 3",
   "language": "python",
   "name": "python3"
  },
  "language_info": {
   "codemirror_mode": {
    "name": "ipython",
    "version": 3
   },
   "file_extension": ".py",
   "mimetype": "text/x-python",
   "name": "python",
   "nbconvert_exporter": "python",
   "pygments_lexer": "ipython3",
   "version": "3.9.1"
  }
 },
 "nbformat": 4,
 "nbformat_minor": 5
}
